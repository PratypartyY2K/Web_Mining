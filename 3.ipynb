{
 "cells": [
  {
   "cell_type": "code",
   "execution_count": 1,
   "metadata": {},
   "outputs": [],
   "source": [
    "#Importing required module\n",
    "import numpy as np\n",
    "from nltk.tokenize import  word_tokenize \n",
    " \n",
    "#Example text corpus for our tutorial\n",
    "text = ['''Topic sentences are similar to mini thesis statements.''',\n",
    "        '''Like a thesis statement, a topic sentence has a specific main point.''',\n",
    "        '''Whereas the thesis is the main point of the essay''',\n",
    "        '''the topic sentence is the main point of the paragraph.''',\n",
    "        '''Like the thesis statement, a topic sentence has a unifying function.''',\n",
    "        '''But a thesis statement or topic sentence alone doesn't guarantee unity.''']\n",
    " \n",
    "#Preprocessing the text data\n",
    "sentences = []\n",
    "word_set = []\n",
    " \n",
    "for sent in text:\n",
    "    x = [i.lower() for  i in word_tokenize(sent) if i.isalpha()]\n",
    "    sentences.append(x)\n",
    "    for word in x:\n",
    "        if word not in word_set:\n",
    "            word_set.append(word)\n",
    "#Set of vocab \n",
    "word_set = set(word_set)\n",
    "#Total documents in our corpus\n",
    "total_documents = len(sentences)\n",
    " \n",
    "#Creating an index for each word in our vocab.\n",
    "index_dict = {} #Dictionary to store index for each word\n",
    "i = 0\n",
    "for word in word_set:\n",
    "    index_dict[word] = i\n",
    "    i += 1"
   ]
  },
  {
   "cell_type": "code",
   "execution_count": 2,
   "metadata": {},
   "outputs": [],
   "source": [
    "#Create a count dictionary\n",
    " \n",
    "def count_dict(sentences):\n",
    "    word_count = {}\n",
    "    for word in word_set:\n",
    "        word_count[word] = 0\n",
    "        for sent in sentences:\n",
    "            if word in sent:\n",
    "                word_count[word] += 1\n",
    "    return word_count\n",
    " \n",
    "word_count = count_dict(sentences)"
   ]
  },
  {
   "cell_type": "code",
   "execution_count": 3,
   "metadata": {},
   "outputs": [],
   "source": [
    "#Term Frequency\n",
    "def termfreq(document, word):\n",
    "    N = len(document)\n",
    "    occurance = len([token for token in document if token == word])\n",
    "    return occurance/N"
   ]
  },
  {
   "cell_type": "code",
   "execution_count": 4,
   "metadata": {},
   "outputs": [],
   "source": [
    "#Inverse Document Frequency\n",
    " \n",
    "def inverse_doc_freq(word):\n",
    "    try:\n",
    "        word_occurance = word_count[word]\n",
    "    except:\n",
    "        word_occurance = 1\n",
    "    return (np.log(total_documents/word_occurance)/np.log(2)) + 1"
   ]
  },
  {
   "cell_type": "code",
   "execution_count": 5,
   "metadata": {},
   "outputs": [],
   "source": [
    "def tf_idf(sentence):\n",
    "    tf_idf_vec = np.zeros(len(word_set))\n",
    "    for word in sentence:\n",
    "        tf = termfreq(sentence,word)\n",
    "        idf = inverse_doc_freq(word)\n",
    "         \n",
    "        value = tf*idf\n",
    "        tf_idf_vec[index_dict[word]] = value \n",
    "    return tf_idf_vec"
   ]
  },
  {
   "cell_type": "code",
   "execution_count": 6,
   "metadata": {},
   "outputs": [
    {
     "name": "stdout",
     "output_type": "stream",
     "text": [
      "<class 'numpy.ndarray'>\n"
     ]
    }
   ],
   "source": [
    "#TF-IDF Encoded text corpus\n",
    "vectors = []\n",
    "for sent in sentences:\n",
    "    vec = tf_idf(sent)\n",
    "    vectors.append(vec)\n",
    " \n",
    "print(type(vectors[0]))\n",
    "import pandas as pd\n",
    "df = pd.DataFrame(columns=word_set,data=vectors)\n",
    "df.to_csv('3.csv')"
   ]
  },
  {
   "cell_type": "code",
   "execution_count": 7,
   "metadata": {},
   "outputs": [],
   "source": [
    "from scipy import spatial\n",
    "def cos_sim(query, doc_number):\n",
    "    list1 = []\n",
    "    list2 = []\n",
    "    for q in query:\n",
    "        list1.append(termfreq(query,q) * inverse_doc_freq(q))\n",
    "        list2.append(df.iloc[doc_number][q])\n",
    "    cs = 1 - spatial.distance.cosine(list1, list2)\n",
    "    return cs"
   ]
  },
  {
   "cell_type": "code",
   "execution_count": 8,
   "metadata": {},
   "outputs": [
    {
     "ename": "SyntaxError",
     "evalue": "invalid syntax (Temp/ipykernel_30084/3617013230.py, line 8)",
     "output_type": "error",
     "traceback": [
      "\u001b[1;36m  File \u001b[1;32m\"C:\\Users\\DELL\\AppData\\Local\\Temp/ipykernel_30084/3617013230.py\"\u001b[1;36m, line \u001b[1;32m8\u001b[0m\n\u001b[1;33m    if max_cos_sim == cosine_similarity[i]\u001b[0m\n\u001b[1;37m                                          ^\u001b[0m\n\u001b[1;31mSyntaxError\u001b[0m\u001b[1;31m:\u001b[0m invalid syntax\n"
     ]
    }
   ],
   "source": [
    "query = ['sentence','thesis','sentences']\n",
    "cosine_similarity = []\n",
    "max_cos_sim = 0\n",
    "for i in range(total_documents):\n",
    "    max_cos_sim = cos_sim(query,i) if cos_sim(query,i) > max_cos_sim else max_cos_sim\n",
    "    cosine_similarity.append(cos_sim(query,i))\n",
    "for i in range(total_documents):\n",
    "    if max_cos_sim == cosine_similarity[i]\n",
    "        break\n",
    "print(cosine_similarity)\n",
    "print(f'Most relevant document for {query} is document{i} with {max_cos_sim} value')"
   ]
  }
 ],
 "metadata": {
  "interpreter": {
   "hash": "c33c2fd9c0035f16a1e7352edf83ee3a15809d7428ac35e77b299bcfd0f4be78"
  },
  "kernelspec": {
   "display_name": "Python 3.9.10 64-bit ('.venv': venv)",
   "language": "python",
   "name": "python3"
  },
  "language_info": {
   "codemirror_mode": {
    "name": "ipython",
    "version": 3
   },
   "file_extension": ".py",
   "mimetype": "text/x-python",
   "name": "python",
   "nbconvert_exporter": "python",
   "pygments_lexer": "ipython3",
   "version": "3.9.10"
  },
  "orig_nbformat": 4
 },
 "nbformat": 4,
 "nbformat_minor": 2
}
